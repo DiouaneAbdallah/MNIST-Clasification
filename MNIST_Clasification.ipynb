{
  "nbformat": 4,
  "nbformat_minor": 0,
  "metadata": {
    "colab": {
      "name": "MNIST Clasification.ipynb",
      "provenance": [],
      "collapsed_sections": []
    },
    "kernelspec": {
      "name": "python3",
      "display_name": "Python 3"
    },
    "language_info": {
      "name": "python"
    }
  },
  "cells": [
    {
      "cell_type": "markdown",
      "source": [
        "[![Open In Colab](https://colab.research.google.com/assets/colab-badge.svg)](https://colab.research.google.com/github/DiouaneAbdallah/MNIST-Clasification/blob/main/MNIST-Clasification.ipynb)\n"
      ],
      "metadata": {
        "id": "ikI0Dr8wGTg9"
      }
    },
    {
      "cell_type": "markdown",
      "source": [
        "# MNIST-Clasification"
      ],
      "metadata": {
        "id": "az0jrMzFGIX-"
      }
    },
    {
      "cell_type": "markdown",
      "source": [
        "Develop a deep learning classifier using Keras library to achieve 99% accuracy on the MNIST digits dataset.\n",
        "\n"
      ],
      "metadata": {
        "id": "DhlvUoqbGL7f"
      }
    },
    {
      "cell_type": "markdown",
      "source": [
        "\n",
        "\n",
        "---\n"
      ],
      "metadata": {
        "id": "rmyP6sNKGPeY"
      }
    },
    {
      "cell_type": "markdown",
      "source": [
        "### Importing the necessary libraries"
      ],
      "metadata": {
        "id": "jAprEu08G81e"
      }
    },
    {
      "cell_type": "code",
      "execution_count": 7,
      "metadata": {
        "id": "U8Z0Qv-PCyRf"
      },
      "outputs": [],
      "source": [
        "import keras\n",
        "\n",
        "from keras.models import Sequential\n",
        "from keras.layers import Conv2D\n",
        "from keras.layers import MaxPooling2D\n",
        "from keras.layers import Flatten\n",
        "from keras.layers import Dense\n",
        "\n",
        "from tensorflow.keras.utils import to_categorical\n",
        "\n",
        "from keras.datasets import mnist\n",
        "\n",
        "import numpy as np"
      ]
    },
    {
      "cell_type": "markdown",
      "source": [
        "### Loading the mnist dataset"
      ],
      "metadata": {
        "id": "pVivrAycHRI-"
      }
    },
    {
      "cell_type": "code",
      "source": [
        "(X_train, y_train), (X_test, y_test) = mnist.load_data()\n",
        "X_train = X_train.reshape(X_train.shape[0], 28, 28, 1)\n",
        "X_test = X_test.reshape(X_test.shape[0], 28, 28, 1)\n",
        "X_train = X_train.astype('float32')\n",
        "X_test = X_test.astype('float32')\n",
        "X_train /= 255\n",
        "X_test /= 255\n",
        "y_train = to_categorical(y_train, num_classes=10)\n",
        "y_test = to_categorical(y_test, num_classes=10)"
      ],
      "metadata": {
        "id": "dsGF1qqzHoCC"
      },
      "execution_count": 8,
      "outputs": []
    },
    {
      "cell_type": "markdown",
      "source": [
        "### Building the model"
      ],
      "metadata": {
        "id": "kMZyc723HCv9"
      }
    },
    {
      "cell_type": "code",
      "source": [
        "classifier = Sequential()\n",
        "\n",
        "classifier.add(Conv2D(32, (3, 3), input_shape = (28, 28, 1), activation = 'relu'))\n",
        "classifier.add(MaxPooling2D(pool_size = (2, 2)))\n",
        "\n",
        "classifier.add(Conv2D(32, (3, 3), activation = 'relu'))\n",
        "classifier.add(MaxPooling2D(pool_size = (2, 2)))\n",
        "\n",
        "classifier.add(Flatten())\n",
        "\n",
        "classifier.add(Dense(units = 128, activation = 'relu'))\n",
        "classifier.add(Dense(units = 10, activation = 'softmax'))\n",
        "\n",
        "classifier.compile(optimizer = 'adam', loss = 'categorical_crossentropy', metrics = ['accuracy'])"
      ],
      "metadata": {
        "id": "zajybrINHLaX"
      },
      "execution_count": 9,
      "outputs": []
    },
    {
      "cell_type": "markdown",
      "source": [
        "### Start the training"
      ],
      "metadata": {
        "id": "He4FOAhNIanX"
      }
    },
    {
      "cell_type": "code",
      "source": [
        "history = classifier.fit(x=X_train, y=y_train,\n",
        "                         batch_size = 32,\n",
        "                         epochs = 20,\n",
        "                         verbose = 1\n",
        "                         )"
      ],
      "metadata": {
        "colab": {
          "base_uri": "https://localhost:8080/"
        },
        "id": "1aUd7y7AIet_",
        "outputId": "27846c03-03fd-4a74-ed9d-03265a3591be"
      },
      "execution_count": 13,
      "outputs": [
        {
          "output_type": "stream",
          "name": "stdout",
          "text": [
            "Epoch 1/20\n",
            "1875/1875 [==============================] - 45s 24ms/step - loss: 0.0058 - accuracy: 0.9981\n",
            "Epoch 2/20\n",
            "1875/1875 [==============================] - 45s 24ms/step - loss: 0.0053 - accuracy: 0.9981\n",
            "Epoch 3/20\n",
            "1875/1875 [==============================] - 45s 24ms/step - loss: 0.0040 - accuracy: 0.9987\n",
            "Epoch 4/20\n",
            "1875/1875 [==============================] - 47s 25ms/step - loss: 0.0036 - accuracy: 0.9990\n",
            "Epoch 5/20\n",
            "1875/1875 [==============================] - 46s 24ms/step - loss: 0.0046 - accuracy: 0.9986\n",
            "Epoch 6/20\n",
            "1875/1875 [==============================] - 45s 24ms/step - loss: 0.0046 - accuracy: 0.9984\n",
            "Epoch 7/20\n",
            "1875/1875 [==============================] - 45s 24ms/step - loss: 0.0011 - accuracy: 0.9996\n",
            "Epoch 8/20\n",
            "1875/1875 [==============================] - 46s 24ms/step - loss: 0.0047 - accuracy: 0.9986\n",
            "Epoch 9/20\n",
            "1875/1875 [==============================] - 45s 24ms/step - loss: 0.0022 - accuracy: 0.9994\n",
            "Epoch 10/20\n",
            "1875/1875 [==============================] - 45s 24ms/step - loss: 0.0033 - accuracy: 0.9991\n",
            "Epoch 11/20\n",
            "1875/1875 [==============================] - 45s 24ms/step - loss: 0.0037 - accuracy: 0.9987\n",
            "Epoch 12/20\n",
            "1875/1875 [==============================] - 45s 24ms/step - loss: 0.0028 - accuracy: 0.9992\n",
            "Epoch 13/20\n",
            "1875/1875 [==============================] - 47s 25ms/step - loss: 0.0025 - accuracy: 0.9991\n",
            "Epoch 14/20\n",
            "1875/1875 [==============================] - 45s 24ms/step - loss: 0.0015 - accuracy: 0.9997\n",
            "Epoch 15/20\n",
            "1875/1875 [==============================] - 45s 24ms/step - loss: 0.0041 - accuracy: 0.9989\n",
            "Epoch 16/20\n",
            "1875/1875 [==============================] - 45s 24ms/step - loss: 0.0028 - accuracy: 0.9991\n",
            "Epoch 17/20\n",
            "1875/1875 [==============================] - 45s 24ms/step - loss: 0.0030 - accuracy: 0.9991\n",
            "Epoch 18/20\n",
            "1875/1875 [==============================] - 45s 24ms/step - loss: 0.0029 - accuracy: 0.9992\n",
            "Epoch 19/20\n",
            "1875/1875 [==============================] - 45s 24ms/step - loss: 0.0033 - accuracy: 0.9992\n",
            "Epoch 20/20\n",
            "1875/1875 [==============================] - 45s 24ms/step - loss: 0.0031 - accuracy: 0.9990\n"
          ]
        }
      ]
    },
    {
      "cell_type": "markdown",
      "source": [
        "### Evaluate the model"
      ],
      "metadata": {
        "id": "CsU2OjECJOJ4"
      }
    },
    {
      "cell_type": "code",
      "source": [
        "score = classifier.evaluate(X_test, y_test, verbose=0)"
      ],
      "metadata": {
        "id": "8lns_M1rJS9O"
      },
      "execution_count": 14,
      "outputs": []
    },
    {
      "cell_type": "code",
      "source": [
        "score"
      ],
      "metadata": {
        "colab": {
          "base_uri": "https://localhost:8080/"
        },
        "id": "NF8iX7xuPQ27",
        "outputId": "59b03f7a-1dc7-4c90-f7fa-90ff021ba607"
      },
      "execution_count": 15,
      "outputs": [
        {
          "output_type": "execute_result",
          "data": {
            "text/plain": [
              "[0.06665287911891937, 0.9898999929428101]"
            ]
          },
          "metadata": {},
          "execution_count": 15
        }
      ]
    },
    {
      "cell_type": "markdown",
      "source": [
        "### Visualize the accuracy and the loss"
      ],
      "metadata": {
        "id": "UGvDkwCzPUvN"
      }
    },
    {
      "cell_type": "code",
      "source": [
        "import matplotlib.pyplot as plt\n",
        "%matplotlib inline\n",
        "\n",
        "loss_train = history.history['loss']\n",
        "epochs = range(0,20)\n",
        "plt.plot(epochs, loss_train, 'g', label='Training loss')\n",
        "plt.title('Training loss')\n",
        "plt.xlabel('Epochs')\n",
        "plt.ylabel('Loss')\n",
        "plt.legend()\n",
        "plt.show()"
      ],
      "metadata": {
        "colab": {
          "base_uri": "https://localhost:8080/",
          "height": 295
        },
        "id": "D0JtbrjwPhj2",
        "outputId": "82220d40-3383-4ce0-d98f-0abfcbecc5d1"
      },
      "execution_count": 19,
      "outputs": [
        {
          "output_type": "display_data",
          "data": {
            "image/png": "[encoded data removed]",
            "text/plain": [
              "<Figure size 432x288 with 1 Axes>"
            ]
          },
          "metadata": {
            "needs_background": "light"
          }
        }
      ]
    },
    {
      "cell_type": "code",
      "source": [
        "accuracy_train = history.history['accuracy']\n",
        "epochs = range(0,20)\n",
        "plt.plot(epochs, accuracy_train, 'g', label='Training accuracy')\n",
        "plt.title('Training accuracy')\n",
        "plt.xlabel('Epochs')\n",
        "plt.ylabel('accuracy')\n",
        "plt.legend()\n",
        "plt.show()"
      ],
      "metadata": {
        "colab": {
          "base_uri": "https://localhost:8080/",
          "height": 295
        },
        "id": "rjI76wbCPzwI",
        "outputId": "bca79999-562c-42f8-a0ac-895883ca3a0a"
      },
      "execution_count": 21,
      "outputs": [
        {
          "output_type": "display_data",
          "data": {
            "image/png": "[encoded data removed]",
            "text/plain": [
              "<Figure size 432x288 with 1 Axes>"
            ]
          },
          "metadata": {
            "needs_background": "light"
          }
        }
      ]
    },
    {
      "cell_type": "markdown",
      "source": [
        "### Save model to json"
      ],
      "metadata": {
        "id": "zVmtGX02IjTe"
      }
    },
    {
      "cell_type": "code",
      "source": [
        "classf = classifier.to_json()\n",
        "with open(\"handWD.json\", \"w\") as json_file:\n",
        "    json_file.write(classf)\n",
        "classifier.save_weights(\"handWDweights.h5\")\n",
        "print(\"model saved to ....\")"
      ],
      "metadata": {
        "colab": {
          "base_uri": "https://localhost:8080/"
        },
        "id": "jZLdc6vkI2lm",
        "outputId": "c3e70977-a156-440c-9968-005e84cc2d55"
      },
      "execution_count": 22,
      "outputs": [
        {
          "output_type": "stream",
          "name": "stdout",
          "text": [
            "model saved to ....\n"
          ]
        }
      ]
    }
  ]
}